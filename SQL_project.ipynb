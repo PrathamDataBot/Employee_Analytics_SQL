{
 "cells": [
  {
   "cell_type": "markdown",
   "id": "1c9479a6",
   "metadata": {},
   "source": [
    "### Tasks\n",
    "\n",
    "1. **Import the employee record dataset and save it to a MySQL database**.\n",
    "2. **Fetch the table using `fetchall()` and `read_sql_query()`**.\n",
    "3. **Query the database to find employees making over $60,000**.\n",
    "4. **Return the average salary for each department**.\n",
    "5. **Find the highest-paid employee and their department**.\n",
    "6. **Identify employees hired before 2020-01-01**."
   ]
  },
  {
   "cell_type": "code",
   "execution_count": 1,
   "id": "060f39fa",
   "metadata": {},
   "outputs": [
    {
     "name": "stderr",
     "output_type": "stream",
     "text": [
      "C:\\ProgramData\\Anaconda3\\lib\\site-packages\\pandas\\core\\computation\\expressions.py:21: UserWarning: Pandas requires version '2.8.4' or newer of 'numexpr' (version '2.8.3' currently installed).\n",
      "  from pandas.core.computation.check import NUMEXPR_INSTALLED\n",
      "C:\\ProgramData\\Anaconda3\\lib\\site-packages\\pandas\\core\\arrays\\masked.py:60: UserWarning: Pandas requires version '1.3.6' or newer of 'bottleneck' (version '1.3.5' currently installed).\n",
      "  from pandas.core import (\n"
     ]
    }
   ],
   "source": [
    "### 1. Import the dataset and save it to a MySQL database\n",
    "\n",
    "import pandas as pd\n",
    "import mysql.connector\n",
    "from getpass import getpass\n",
    "from mysql.connector import connect, Error"
   ]
  },
  {
   "cell_type": "code",
   "execution_count": 2,
   "id": "e9fe80df",
   "metadata": {},
   "outputs": [],
   "source": [
    "# Load the dataset\n",
    "file_path = 'employees_record_data.csv'\n",
    "df = pd.read_csv(file_path)"
   ]
  },
  {
   "cell_type": "code",
   "execution_count": 3,
   "id": "389884d3",
   "metadata": {},
   "outputs": [
    {
     "data": {
      "text/plain": [
       "(17, 5)"
      ]
     },
     "execution_count": 3,
     "metadata": {},
     "output_type": "execute_result"
    }
   ],
   "source": [
    "df.shape"
   ]
  },
  {
   "cell_type": "code",
   "execution_count": 4,
   "id": "578a605e",
   "metadata": {},
   "outputs": [
    {
     "data": {
      "text/html": [
       "<div>\n",
       "<style scoped>\n",
       "    .dataframe tbody tr th:only-of-type {\n",
       "        vertical-align: middle;\n",
       "    }\n",
       "\n",
       "    .dataframe tbody tr th {\n",
       "        vertical-align: top;\n",
       "    }\n",
       "\n",
       "    .dataframe thead th {\n",
       "        text-align: right;\n",
       "    }\n",
       "</style>\n",
       "<table border=\"1\" class=\"dataframe\">\n",
       "  <thead>\n",
       "    <tr style=\"text-align: right;\">\n",
       "      <th></th>\n",
       "      <th>Name</th>\n",
       "      <th>Job Title</th>\n",
       "      <th>Department</th>\n",
       "      <th>Salary</th>\n",
       "      <th>HireDate</th>\n",
       "    </tr>\n",
       "  </thead>\n",
       "  <tbody>\n",
       "    <tr>\n",
       "      <th>0</th>\n",
       "      <td>John Smith</td>\n",
       "      <td>Manager</td>\n",
       "      <td>Management</td>\n",
       "      <td>100000</td>\n",
       "      <td>1 01 2020</td>\n",
       "    </tr>\n",
       "    <tr>\n",
       "      <th>1</th>\n",
       "      <td>Jane Doe</td>\n",
       "      <td>Sales Associate</td>\n",
       "      <td>Sales</td>\n",
       "      <td>50000</td>\n",
       "      <td>1 06 2019</td>\n",
       "    </tr>\n",
       "    <tr>\n",
       "      <th>2</th>\n",
       "      <td>Bob Johnson</td>\n",
       "      <td>Assistant Manager</td>\n",
       "      <td>Management</td>\n",
       "      <td>75000</td>\n",
       "      <td>1 03 2018</td>\n",
       "    </tr>\n",
       "    <tr>\n",
       "      <th>3</th>\n",
       "      <td>Mary Johnson</td>\n",
       "      <td>Sales Associate</td>\n",
       "      <td>Sales</td>\n",
       "      <td>45000</td>\n",
       "      <td>1 02 2021</td>\n",
       "    </tr>\n",
       "    <tr>\n",
       "      <th>4</th>\n",
       "      <td>Kevin Lee</td>\n",
       "      <td>Analyst</td>\n",
       "      <td>Finance</td>\n",
       "      <td>80000</td>\n",
       "      <td>1 07 2020</td>\n",
       "    </tr>\n",
       "  </tbody>\n",
       "</table>\n",
       "</div>"
      ],
      "text/plain": [
       "           Name          Job Title  Department  Salary   HireDate\n",
       "0    John Smith            Manager  Management  100000  1 01 2020\n",
       "1      Jane Doe    Sales Associate       Sales   50000  1 06 2019\n",
       "2   Bob Johnson  Assistant Manager  Management   75000  1 03 2018\n",
       "3  Mary Johnson    Sales Associate       Sales   45000  1 02 2021\n",
       "4     Kevin Lee            Analyst     Finance   80000  1 07 2020"
      ]
     },
     "execution_count": 4,
     "metadata": {},
     "output_type": "execute_result"
    }
   ],
   "source": [
    "df.head()"
   ]
  },
  {
   "cell_type": "code",
   "execution_count": 6,
   "id": "ffd423e3",
   "metadata": {},
   "outputs": [
    {
     "name": "stdout",
     "output_type": "stream",
     "text": [
      "<class 'pandas.core.frame.DataFrame'>\n",
      "RangeIndex: 17 entries, 0 to 16\n",
      "Data columns (total 5 columns):\n",
      " #   Column      Non-Null Count  Dtype \n",
      "---  ------      --------------  ----- \n",
      " 0   Name        17 non-null     object\n",
      " 1   Job Title   17 non-null     object\n",
      " 2   Department  17 non-null     object\n",
      " 3   Salary      17 non-null     int64 \n",
      " 4   HireDate    17 non-null     object\n",
      "dtypes: int64(1), object(4)\n",
      "memory usage: 808.0+ bytes\n"
     ]
    }
   ],
   "source": [
    "df.info()"
   ]
  },
  {
   "cell_type": "code",
   "execution_count": 7,
   "id": "5fc91cbc",
   "metadata": {},
   "outputs": [
    {
     "data": {
      "text/html": [
       "<div>\n",
       "<style scoped>\n",
       "    .dataframe tbody tr th:only-of-type {\n",
       "        vertical-align: middle;\n",
       "    }\n",
       "\n",
       "    .dataframe tbody tr th {\n",
       "        vertical-align: top;\n",
       "    }\n",
       "\n",
       "    .dataframe thead th {\n",
       "        text-align: right;\n",
       "    }\n",
       "</style>\n",
       "<table border=\"1\" class=\"dataframe\">\n",
       "  <thead>\n",
       "    <tr style=\"text-align: right;\">\n",
       "      <th></th>\n",
       "      <th>Name</th>\n",
       "      <th>Job Title</th>\n",
       "      <th>Department</th>\n",
       "      <th>Salary</th>\n",
       "      <th>HireDate</th>\n",
       "    </tr>\n",
       "  </thead>\n",
       "  <tbody>\n",
       "    <tr>\n",
       "      <th>0</th>\n",
       "      <td>John Smith</td>\n",
       "      <td>Manager</td>\n",
       "      <td>Management</td>\n",
       "      <td>100000</td>\n",
       "      <td>2020-01-01</td>\n",
       "    </tr>\n",
       "    <tr>\n",
       "      <th>1</th>\n",
       "      <td>Jane Doe</td>\n",
       "      <td>Sales Associate</td>\n",
       "      <td>Sales</td>\n",
       "      <td>50000</td>\n",
       "      <td>2019-06-01</td>\n",
       "    </tr>\n",
       "    <tr>\n",
       "      <th>2</th>\n",
       "      <td>Bob Johnson</td>\n",
       "      <td>Assistant Manager</td>\n",
       "      <td>Management</td>\n",
       "      <td>75000</td>\n",
       "      <td>2018-03-01</td>\n",
       "    </tr>\n",
       "    <tr>\n",
       "      <th>3</th>\n",
       "      <td>Mary Johnson</td>\n",
       "      <td>Sales Associate</td>\n",
       "      <td>Sales</td>\n",
       "      <td>45000</td>\n",
       "      <td>2021-02-01</td>\n",
       "    </tr>\n",
       "    <tr>\n",
       "      <th>4</th>\n",
       "      <td>Kevin Lee</td>\n",
       "      <td>Analyst</td>\n",
       "      <td>Finance</td>\n",
       "      <td>80000</td>\n",
       "      <td>2020-07-01</td>\n",
       "    </tr>\n",
       "  </tbody>\n",
       "</table>\n",
       "</div>"
      ],
      "text/plain": [
       "           Name          Job Title  Department  Salary    HireDate\n",
       "0    John Smith            Manager  Management  100000  2020-01-01\n",
       "1      Jane Doe    Sales Associate       Sales   50000  2019-06-01\n",
       "2   Bob Johnson  Assistant Manager  Management   75000  2018-03-01\n",
       "3  Mary Johnson    Sales Associate       Sales   45000  2021-02-01\n",
       "4     Kevin Lee            Analyst     Finance   80000  2020-07-01"
      ]
     },
     "execution_count": 7,
     "metadata": {},
     "output_type": "execute_result"
    }
   ],
   "source": [
    "# Convert 'hire_date' column to the correct format\n",
    "df['HireDate'] = pd.to_datetime(df['HireDate'], format='%d %m %Y').dt.strftime('%Y-%m-%d')\n",
    "\n",
    "df.head()\n"
   ]
  },
  {
   "cell_type": "code",
   "execution_count": 9,
   "id": "5e9b71b1",
   "metadata": {},
   "outputs": [
    {
     "name": "stdout",
     "output_type": "stream",
     "text": [
      "<class 'pandas.core.frame.DataFrame'>\n",
      "RangeIndex: 17 entries, 0 to 16\n",
      "Data columns (total 5 columns):\n",
      " #   Column      Non-Null Count  Dtype \n",
      "---  ------      --------------  ----- \n",
      " 0   Name        17 non-null     object\n",
      " 1   Job Title   17 non-null     object\n",
      " 2   Department  17 non-null     object\n",
      " 3   Salary      17 non-null     int64 \n",
      " 4   HireDate    17 non-null     object\n",
      "dtypes: int64(1), object(4)\n",
      "memory usage: 808.0+ bytes\n"
     ]
    }
   ],
   "source": [
    "df.info()"
   ]
  },
  {
   "cell_type": "code",
   "execution_count": 10,
   "id": "00e9c118",
   "metadata": {},
   "outputs": [
    {
     "name": "stdout",
     "output_type": "stream",
     "text": [
      "Enter password: ········\n"
     ]
    }
   ],
   "source": [
    "password=getpass(\"Enter password: \")"
   ]
  },
  {
   "cell_type": "code",
   "execution_count": 11,
   "id": "f9f0fec3",
   "metadata": {},
   "outputs": [],
   "source": [
    "# 127.0.0.1:3306\n",
    "conn = connect(host=\"localhost\",user=\"root\",\n",
    "        password=password)\n",
    "cursor = conn.cursor()"
   ]
  },
  {
   "cell_type": "code",
   "execution_count": 12,
   "id": "c7619a7a",
   "metadata": {},
   "outputs": [],
   "source": [
    "delete_db_query = \"DROP DATABASE IF EXISTS `Employees_Records`\"\n",
    "cursor.execute(delete_db_query)"
   ]
  },
  {
   "cell_type": "code",
   "execution_count": 13,
   "id": "a8ed2b41",
   "metadata": {},
   "outputs": [],
   "source": [
    "create_db_query = \"CREATE DATABASE Employees_Records\"\n",
    "cursor.execute(create_db_query)"
   ]
  },
  {
   "cell_type": "code",
   "execution_count": 14,
   "id": "b923fd81",
   "metadata": {},
   "outputs": [
    {
     "name": "stdout",
     "output_type": "stream",
     "text": [
      "('employees_records',)\n",
      "('information_schema',)\n",
      "('invoicing',)\n",
      "('mysql',)\n",
      "('online_movie_rating',)\n",
      "('performance_schema',)\n",
      "('store',)\n",
      "('sys',)\n"
     ]
    }
   ],
   "source": [
    "show_db_query = \"SHOW DATABASES\"\n",
    "cursor.execute(show_db_query)\n",
    "for db in cursor:\n",
    "    print(db)"
   ]
  },
  {
   "cell_type": "code",
   "execution_count": 15,
   "id": "b2ce407d",
   "metadata": {},
   "outputs": [],
   "source": [
    "#connecting to an existing database\n",
    "\n",
    "conn = connect(host=\"localhost\",user=\"root\",\n",
    "        password=password,database=\"employees_records\")\n",
    "cursor = conn.cursor()"
   ]
  },
  {
   "cell_type": "code",
   "execution_count": 16,
   "id": "852bbbde",
   "metadata": {},
   "outputs": [],
   "source": [
    "# Create table\n",
    "create_table_query = \"\"\"\n",
    "CREATE TABLE IF NOT EXISTS employees (\n",
    "    id INT AUTO_INCREMENT PRIMARY KEY,\n",
    "    name VARCHAR(255),\n",
    "    department VARCHAR(255),\n",
    "    salary FLOAT,\n",
    "    hire_date DATE\n",
    ");\n",
    "\"\"\"\n",
    "cursor.execute(create_table_query)"
   ]
  },
  {
   "cell_type": "code",
   "execution_count": 17,
   "id": "022b06c8",
   "metadata": {},
   "outputs": [
    {
     "name": "stdout",
     "output_type": "stream",
     "text": [
      "('employees',)\n"
     ]
    }
   ],
   "source": [
    "show_table_query = \"SHOW TABLES\"\n",
    "cursor.execute(show_table_query)\n",
    "for tb in cursor:\n",
    "    print(tb)"
   ]
  },
  {
   "cell_type": "code",
   "execution_count": 22,
   "id": "0ef781dd",
   "metadata": {},
   "outputs": [],
   "source": [
    "# for index, row in df.iterrows():\n",
    "#     print(row['Job Title'])\n",
    "\n",
    "# created DB emplyees_rec\n",
    "# created table employees\n",
    "# csv - df \n",
    "# df.iterrows - to save data - from df - to - table emplyees"
   ]
  },
  {
   "cell_type": "code",
   "execution_count": 23,
   "id": "12172842",
   "metadata": {},
   "outputs": [],
   "source": [
    "# Insert data into the table\n",
    "for index, row in df.iterrows():\n",
    "    cursor.execute(\n",
    "        \"INSERT INTO employees (name, department, salary, hire_date) VALUES ( %s, %s, %s, %s)\",\n",
    "        ( row['Name'], row['Department'], row['Salary'], row['HireDate'])\n",
    "    )\n",
    "\n",
    "conn.commit()\n",
    "\n",
    "# Close the cursor and connection\n",
    "cursor.close()\n",
    "conn.close()\n"
   ]
  },
  {
   "cell_type": "code",
   "execution_count": 25,
   "id": "a264c373",
   "metadata": {},
   "outputs": [
    {
     "name": "stdout",
     "output_type": "stream",
     "text": [
      "(1, 'John Smith', 'Management', 100000.0, datetime.date(2020, 1, 1))\n",
      "(2, 'Jane Doe', 'Sales', 50000.0, datetime.date(2019, 6, 1))\n",
      "(3, 'Bob Johnson', 'Management', 75000.0, datetime.date(2018, 3, 1))\n",
      "(4, 'Mary Johnson', 'Sales', 45000.0, datetime.date(2021, 2, 1))\n",
      "(5, 'Kevin Lee', 'Finance', 80000.0, datetime.date(2020, 7, 1))\n",
      "(6, 'Sophia Martinez', 'Customer Service', 71000.0, datetime.date(2018, 9, 12))\n",
      "(7, 'Emma Thomas', 'Research', 59000.0, datetime.date(2019, 11, 30))\n",
      "(8, 'Liam Taylor', 'Finance', 72000.0, datetime.date(2015, 7, 22))\n",
      "(9, 'Ava White', 'Engineering', 67000.0, datetime.date(2020, 9, 18))\n",
      "(10, 'Noah Martin', 'HR', 55000.0, datetime.date(2019, 3, 3))\n",
      "(11, 'Isabella Hall', 'IT', 78000.0, datetime.date(2018, 5, 29))\n",
      "(12, 'Ethan Garcia', 'Marketing', 65000.0, datetime.date(2016, 10, 12))\n",
      "(13, 'Mia Lopez', 'Operations', 72000.0, datetime.date(2017, 8, 8))\n",
      "(14, 'Alexander Hill', 'Sales', 60000.0, datetime.date(2022, 4, 5))\n",
      "(15, 'Charlotte Clark', 'Research', 73000.0, datetime.date(2019, 9, 2))\n",
      "(16, 'Daniel Lewis', 'IT', 69000.0, datetime.date(2018, 1, 14))\n",
      "(17, 'Harper Adams', 'Marketing', 85000.0, datetime.date(2016, 6, 7))\n"
     ]
    }
   ],
   "source": [
    "conn = connect(host=\"localhost\",user=\"root\",\n",
    "        password=password,database=\"employees_records\")\n",
    "cursor = conn.cursor()\n",
    "\n",
    "select_reviewers_query = \"SELECT * FROM employees\"\n",
    "cursor.execute(select_reviewers_query)\n",
    "result = cursor.fetchall()\n",
    "for row in result:\n",
    "    print(row)\n",
    "    \n",
    "# Close the cursor and connection\n",
    "cursor.close()\n",
    "conn.close()"
   ]
  },
  {
   "cell_type": "code",
   "execution_count": 31,
   "id": "5d9e1322",
   "metadata": {},
   "outputs": [
    {
     "name": "stdout",
     "output_type": "stream",
     "text": [
      "(1, 'John Smith', 'Management', 100000.0, datetime.date(2020, 1, 1))\n",
      "(2, 'Jane Doe', 'Sales', 50000.0, datetime.date(2019, 6, 1))\n",
      "(3, 'Bob Johnson', 'Management', 75000.0, datetime.date(2018, 3, 1))\n",
      "(4, 'Mary Johnson', 'Sales', 45000.0, datetime.date(2021, 2, 1))\n",
      "(5, 'Kevin Lee', 'Finance', 80000.0, datetime.date(2020, 7, 1))\n",
      "(6, 'Sophia Martinez', 'Customer Service', 71000.0, datetime.date(2018, 9, 12))\n",
      "(7, 'Emma Thomas', 'Research', 59000.0, datetime.date(2019, 11, 30))\n",
      "(8, 'Liam Taylor', 'Finance', 72000.0, datetime.date(2015, 7, 22))\n",
      "(9, 'Ava White', 'Engineering', 67000.0, datetime.date(2020, 9, 18))\n",
      "(10, 'Noah Martin', 'HR', 55000.0, datetime.date(2019, 3, 3))\n",
      "(11, 'Isabella Hall', 'IT', 78000.0, datetime.date(2018, 5, 29))\n",
      "(12, 'Ethan Garcia', 'Marketing', 65000.0, datetime.date(2016, 10, 12))\n",
      "(13, 'Mia Lopez', 'Operations', 72000.0, datetime.date(2017, 8, 8))\n",
      "(14, 'Alexander Hill', 'Sales', 60000.0, datetime.date(2022, 4, 5))\n",
      "(15, 'Charlotte Clark', 'Research', 73000.0, datetime.date(2019, 9, 2))\n",
      "(16, 'Daniel Lewis', 'IT', 69000.0, datetime.date(2018, 1, 14))\n",
      "(17, 'Harper Adams', 'Marketing', 85000.0, datetime.date(2016, 6, 7))\n"
     ]
    }
   ],
   "source": [
    "### 2. Fetch the table using `fetchall()` and `read_sql_query()`\n",
    "\n",
    "#connecting to an existing database\n",
    "\n",
    "conn = connect(host=\"localhost\",user=\"root\",\n",
    "        password=password,database=\"employees_records\")\n",
    "cursor = conn.cursor()\n",
    "\n",
    "\n",
    "# Fetch all records using fetchall()\n",
    "cursor.execute(\"SELECT * FROM employees\")\n",
    "records = cursor.fetchall()\n",
    "\n",
    "# Print records\n",
    "for record in records:\n",
    "    print(record)"
   ]
  },
  {
   "cell_type": "code",
   "execution_count": 33,
   "id": "ee0c22a9",
   "metadata": {},
   "outputs": [
    {
     "name": "stderr",
     "output_type": "stream",
     "text": [
      "C:\\Users\\omcar\\AppData\\Local\\Temp\\ipykernel_4364\\2813950244.py:2: UserWarning: pandas only supports SQLAlchemy connectable (engine/connection) or database string URI or sqlite3 DBAPI2 connection. Other DBAPI2 objects are not tested. Please consider using SQLAlchemy.\n",
      "  empl_df = pd.read_sql_query(\"SELECT * FROM employees\", conn)\n"
     ]
    },
    {
     "data": {
      "text/html": [
       "<div>\n",
       "<style scoped>\n",
       "    .dataframe tbody tr th:only-of-type {\n",
       "        vertical-align: middle;\n",
       "    }\n",
       "\n",
       "    .dataframe tbody tr th {\n",
       "        vertical-align: top;\n",
       "    }\n",
       "\n",
       "    .dataframe thead th {\n",
       "        text-align: right;\n",
       "    }\n",
       "</style>\n",
       "<table border=\"1\" class=\"dataframe\">\n",
       "  <thead>\n",
       "    <tr style=\"text-align: right;\">\n",
       "      <th></th>\n",
       "      <th>id</th>\n",
       "      <th>name</th>\n",
       "      <th>department</th>\n",
       "      <th>salary</th>\n",
       "      <th>hire_date</th>\n",
       "    </tr>\n",
       "  </thead>\n",
       "  <tbody>\n",
       "    <tr>\n",
       "      <th>0</th>\n",
       "      <td>1</td>\n",
       "      <td>John Smith</td>\n",
       "      <td>Management</td>\n",
       "      <td>100000.0</td>\n",
       "      <td>2020-01-01</td>\n",
       "    </tr>\n",
       "    <tr>\n",
       "      <th>1</th>\n",
       "      <td>2</td>\n",
       "      <td>Jane Doe</td>\n",
       "      <td>Sales</td>\n",
       "      <td>50000.0</td>\n",
       "      <td>2019-06-01</td>\n",
       "    </tr>\n",
       "    <tr>\n",
       "      <th>2</th>\n",
       "      <td>3</td>\n",
       "      <td>Bob Johnson</td>\n",
       "      <td>Management</td>\n",
       "      <td>75000.0</td>\n",
       "      <td>2018-03-01</td>\n",
       "    </tr>\n",
       "    <tr>\n",
       "      <th>3</th>\n",
       "      <td>4</td>\n",
       "      <td>Mary Johnson</td>\n",
       "      <td>Sales</td>\n",
       "      <td>45000.0</td>\n",
       "      <td>2021-02-01</td>\n",
       "    </tr>\n",
       "    <tr>\n",
       "      <th>4</th>\n",
       "      <td>5</td>\n",
       "      <td>Kevin Lee</td>\n",
       "      <td>Finance</td>\n",
       "      <td>80000.0</td>\n",
       "      <td>2020-07-01</td>\n",
       "    </tr>\n",
       "  </tbody>\n",
       "</table>\n",
       "</div>"
      ],
      "text/plain": [
       "   id          name  department    salary   hire_date\n",
       "0   1    John Smith  Management  100000.0  2020-01-01\n",
       "1   2      Jane Doe       Sales   50000.0  2019-06-01\n",
       "2   3   Bob Johnson  Management   75000.0  2018-03-01\n",
       "3   4  Mary Johnson       Sales   45000.0  2021-02-01\n",
       "4   5     Kevin Lee     Finance   80000.0  2020-07-01"
      ]
     },
     "execution_count": 33,
     "metadata": {},
     "output_type": "execute_result"
    }
   ],
   "source": [
    "# Fetch all records using read_sql_query()\n",
    "empl_df = pd.read_sql_query(\"SELECT * FROM employees\", conn)\n",
    "empl_df.head()"
   ]
  },
  {
   "cell_type": "code",
   "execution_count": 38,
   "id": "b9a82acb",
   "metadata": {},
   "outputs": [
    {
     "data": {
      "text/html": [
       "<div>\n",
       "<style scoped>\n",
       "    .dataframe tbody tr th:only-of-type {\n",
       "        vertical-align: middle;\n",
       "    }\n",
       "\n",
       "    .dataframe tbody tr th {\n",
       "        vertical-align: top;\n",
       "    }\n",
       "\n",
       "    .dataframe thead th {\n",
       "        text-align: right;\n",
       "    }\n",
       "</style>\n",
       "<table border=\"1\" class=\"dataframe\">\n",
       "  <thead>\n",
       "    <tr style=\"text-align: right;\">\n",
       "      <th></th>\n",
       "      <th>id</th>\n",
       "      <th>salary</th>\n",
       "    </tr>\n",
       "    <tr>\n",
       "      <th>department</th>\n",
       "      <th></th>\n",
       "      <th></th>\n",
       "    </tr>\n",
       "  </thead>\n",
       "  <tbody>\n",
       "    <tr>\n",
       "      <th>Customer Service</th>\n",
       "      <td>6.000000</td>\n",
       "      <td>71000.000000</td>\n",
       "    </tr>\n",
       "    <tr>\n",
       "      <th>Engineering</th>\n",
       "      <td>9.000000</td>\n",
       "      <td>67000.000000</td>\n",
       "    </tr>\n",
       "    <tr>\n",
       "      <th>Finance</th>\n",
       "      <td>6.500000</td>\n",
       "      <td>76000.000000</td>\n",
       "    </tr>\n",
       "    <tr>\n",
       "      <th>HR</th>\n",
       "      <td>10.000000</td>\n",
       "      <td>55000.000000</td>\n",
       "    </tr>\n",
       "    <tr>\n",
       "      <th>IT</th>\n",
       "      <td>13.500000</td>\n",
       "      <td>73500.000000</td>\n",
       "    </tr>\n",
       "    <tr>\n",
       "      <th>Management</th>\n",
       "      <td>2.000000</td>\n",
       "      <td>87500.000000</td>\n",
       "    </tr>\n",
       "    <tr>\n",
       "      <th>Marketing</th>\n",
       "      <td>14.500000</td>\n",
       "      <td>75000.000000</td>\n",
       "    </tr>\n",
       "    <tr>\n",
       "      <th>Operations</th>\n",
       "      <td>13.000000</td>\n",
       "      <td>72000.000000</td>\n",
       "    </tr>\n",
       "    <tr>\n",
       "      <th>Research</th>\n",
       "      <td>11.000000</td>\n",
       "      <td>66000.000000</td>\n",
       "    </tr>\n",
       "    <tr>\n",
       "      <th>Sales</th>\n",
       "      <td>6.666667</td>\n",
       "      <td>51666.666667</td>\n",
       "    </tr>\n",
       "  </tbody>\n",
       "</table>\n",
       "</div>"
      ],
      "text/plain": [
       "                         id        salary\n",
       "department                               \n",
       "Customer Service   6.000000  71000.000000\n",
       "Engineering        9.000000  67000.000000\n",
       "Finance            6.500000  76000.000000\n",
       "HR                10.000000  55000.000000\n",
       "IT                13.500000  73500.000000\n",
       "Management         2.000000  87500.000000\n",
       "Marketing         14.500000  75000.000000\n",
       "Operations        13.000000  72000.000000\n",
       "Research          11.000000  66000.000000\n",
       "Sales              6.666667  51666.666667"
      ]
     },
     "execution_count": 38,
     "metadata": {},
     "output_type": "execute_result"
    }
   ],
   "source": [
    "empl_df.groupby('department').mean('salary')"
   ]
  },
  {
   "cell_type": "code",
   "execution_count": 34,
   "id": "dbf5bf24",
   "metadata": {},
   "outputs": [],
   "source": [
    "# Close the cursor and connection\n",
    "cursor.close()\n",
    "conn.close()"
   ]
  },
  {
   "cell_type": "code",
   "execution_count": 35,
   "id": "0cbe77a3",
   "metadata": {},
   "outputs": [
    {
     "name": "stderr",
     "output_type": "stream",
     "text": [
      "C:\\Users\\omcar\\AppData\\Local\\Temp\\ipykernel_4364\\3439783165.py:11: UserWarning: pandas only supports SQLAlchemy connectable (engine/connection) or database string URI or sqlite3 DBAPI2 connection. Other DBAPI2 objects are not tested. Please consider using SQLAlchemy.\n",
      "  df_high_salary = pd.read_sql_query(query, conn)\n"
     ]
    },
    {
     "data": {
      "text/html": [
       "<div>\n",
       "<style scoped>\n",
       "    .dataframe tbody tr th:only-of-type {\n",
       "        vertical-align: middle;\n",
       "    }\n",
       "\n",
       "    .dataframe tbody tr th {\n",
       "        vertical-align: top;\n",
       "    }\n",
       "\n",
       "    .dataframe thead th {\n",
       "        text-align: right;\n",
       "    }\n",
       "</style>\n",
       "<table border=\"1\" class=\"dataframe\">\n",
       "  <thead>\n",
       "    <tr style=\"text-align: right;\">\n",
       "      <th></th>\n",
       "      <th>name</th>\n",
       "      <th>salary</th>\n",
       "    </tr>\n",
       "  </thead>\n",
       "  <tbody>\n",
       "    <tr>\n",
       "      <th>0</th>\n",
       "      <td>John Smith</td>\n",
       "      <td>100000.0</td>\n",
       "    </tr>\n",
       "    <tr>\n",
       "      <th>1</th>\n",
       "      <td>Bob Johnson</td>\n",
       "      <td>75000.0</td>\n",
       "    </tr>\n",
       "    <tr>\n",
       "      <th>2</th>\n",
       "      <td>Kevin Lee</td>\n",
       "      <td>80000.0</td>\n",
       "    </tr>\n",
       "    <tr>\n",
       "      <th>3</th>\n",
       "      <td>Sophia Martinez</td>\n",
       "      <td>71000.0</td>\n",
       "    </tr>\n",
       "    <tr>\n",
       "      <th>4</th>\n",
       "      <td>Liam Taylor</td>\n",
       "      <td>72000.0</td>\n",
       "    </tr>\n",
       "    <tr>\n",
       "      <th>5</th>\n",
       "      <td>Ava White</td>\n",
       "      <td>67000.0</td>\n",
       "    </tr>\n",
       "    <tr>\n",
       "      <th>6</th>\n",
       "      <td>Isabella Hall</td>\n",
       "      <td>78000.0</td>\n",
       "    </tr>\n",
       "    <tr>\n",
       "      <th>7</th>\n",
       "      <td>Ethan Garcia</td>\n",
       "      <td>65000.0</td>\n",
       "    </tr>\n",
       "    <tr>\n",
       "      <th>8</th>\n",
       "      <td>Mia Lopez</td>\n",
       "      <td>72000.0</td>\n",
       "    </tr>\n",
       "    <tr>\n",
       "      <th>9</th>\n",
       "      <td>Charlotte Clark</td>\n",
       "      <td>73000.0</td>\n",
       "    </tr>\n",
       "    <tr>\n",
       "      <th>10</th>\n",
       "      <td>Daniel Lewis</td>\n",
       "      <td>69000.0</td>\n",
       "    </tr>\n",
       "    <tr>\n",
       "      <th>11</th>\n",
       "      <td>Harper Adams</td>\n",
       "      <td>85000.0</td>\n",
       "    </tr>\n",
       "  </tbody>\n",
       "</table>\n",
       "</div>"
      ],
      "text/plain": [
       "               name    salary\n",
       "0        John Smith  100000.0\n",
       "1       Bob Johnson   75000.0\n",
       "2         Kevin Lee   80000.0\n",
       "3   Sophia Martinez   71000.0\n",
       "4       Liam Taylor   72000.0\n",
       "5         Ava White   67000.0\n",
       "6     Isabella Hall   78000.0\n",
       "7      Ethan Garcia   65000.0\n",
       "8         Mia Lopez   72000.0\n",
       "9   Charlotte Clark   73000.0\n",
       "10     Daniel Lewis   69000.0\n",
       "11     Harper Adams   85000.0"
      ]
     },
     "execution_count": 35,
     "metadata": {},
     "output_type": "execute_result"
    }
   ],
   "source": [
    "### 3. Find the names and salaries of employees that make over $60,000\n",
    "\n",
    "#connecting to an existing database\n",
    "\n",
    "conn = connect(host=\"localhost\",user=\"root\",\n",
    "        password=password,database=\"employees_records\")\n",
    "cursor = conn.cursor()\n",
    "\n",
    "# Query to find employees making over $60,000\n",
    "query = \"SELECT name, salary FROM employees WHERE salary > 60000\"\n",
    "df_high_salary = pd.read_sql_query(query, conn)\n",
    "df_high_salary\n"
   ]
  },
  {
   "cell_type": "code",
   "execution_count": 36,
   "id": "d3fdd119",
   "metadata": {},
   "outputs": [],
   "source": [
    "# Close the connection\n",
    "conn.close()"
   ]
  },
  {
   "cell_type": "code",
   "execution_count": 39,
   "id": "b301e7ce",
   "metadata": {},
   "outputs": [
    {
     "name": "stderr",
     "output_type": "stream",
     "text": [
      "C:\\Users\\omcar\\AppData\\Local\\Temp\\ipykernel_4364\\2177124226.py:11: UserWarning: pandas only supports SQLAlchemy connectable (engine/connection) or database string URI or sqlite3 DBAPI2 connection. Other DBAPI2 objects are not tested. Please consider using SQLAlchemy.\n",
      "  df_avg_salary = pd.read_sql_query(query, conn)\n"
     ]
    },
    {
     "data": {
      "text/html": [
       "<div>\n",
       "<style scoped>\n",
       "    .dataframe tbody tr th:only-of-type {\n",
       "        vertical-align: middle;\n",
       "    }\n",
       "\n",
       "    .dataframe tbody tr th {\n",
       "        vertical-align: top;\n",
       "    }\n",
       "\n",
       "    .dataframe thead th {\n",
       "        text-align: right;\n",
       "    }\n",
       "</style>\n",
       "<table border=\"1\" class=\"dataframe\">\n",
       "  <thead>\n",
       "    <tr style=\"text-align: right;\">\n",
       "      <th></th>\n",
       "      <th>department</th>\n",
       "      <th>average_salary</th>\n",
       "    </tr>\n",
       "  </thead>\n",
       "  <tbody>\n",
       "    <tr>\n",
       "      <th>0</th>\n",
       "      <td>Management</td>\n",
       "      <td>87500.000000</td>\n",
       "    </tr>\n",
       "    <tr>\n",
       "      <th>1</th>\n",
       "      <td>Sales</td>\n",
       "      <td>51666.666667</td>\n",
       "    </tr>\n",
       "    <tr>\n",
       "      <th>2</th>\n",
       "      <td>Finance</td>\n",
       "      <td>76000.000000</td>\n",
       "    </tr>\n",
       "    <tr>\n",
       "      <th>3</th>\n",
       "      <td>Customer Service</td>\n",
       "      <td>71000.000000</td>\n",
       "    </tr>\n",
       "    <tr>\n",
       "      <th>4</th>\n",
       "      <td>Research</td>\n",
       "      <td>66000.000000</td>\n",
       "    </tr>\n",
       "    <tr>\n",
       "      <th>5</th>\n",
       "      <td>Engineering</td>\n",
       "      <td>67000.000000</td>\n",
       "    </tr>\n",
       "    <tr>\n",
       "      <th>6</th>\n",
       "      <td>HR</td>\n",
       "      <td>55000.000000</td>\n",
       "    </tr>\n",
       "    <tr>\n",
       "      <th>7</th>\n",
       "      <td>IT</td>\n",
       "      <td>73500.000000</td>\n",
       "    </tr>\n",
       "    <tr>\n",
       "      <th>8</th>\n",
       "      <td>Marketing</td>\n",
       "      <td>75000.000000</td>\n",
       "    </tr>\n",
       "    <tr>\n",
       "      <th>9</th>\n",
       "      <td>Operations</td>\n",
       "      <td>72000.000000</td>\n",
       "    </tr>\n",
       "  </tbody>\n",
       "</table>\n",
       "</div>"
      ],
      "text/plain": [
       "         department  average_salary\n",
       "0        Management    87500.000000\n",
       "1             Sales    51666.666667\n",
       "2           Finance    76000.000000\n",
       "3  Customer Service    71000.000000\n",
       "4          Research    66000.000000\n",
       "5       Engineering    67000.000000\n",
       "6                HR    55000.000000\n",
       "7                IT    73500.000000\n",
       "8         Marketing    75000.000000\n",
       "9        Operations    72000.000000"
      ]
     },
     "execution_count": 39,
     "metadata": {},
     "output_type": "execute_result"
    }
   ],
   "source": [
    "### 4. Return the average salary for each department\n",
    "\n",
    "#connecting to an existing database\n",
    "\n",
    "conn = connect(host=\"localhost\",user=\"root\",\n",
    "        password=password,database=\"employees_records\")\n",
    "cursor = conn.cursor()\n",
    "\n",
    "# Query to return the average salary for each department\n",
    "query = \"SELECT department, AVG(salary) as average_salary FROM employees GROUP BY department\"\n",
    "df_avg_salary = pd.read_sql_query(query, conn)\n",
    "df_avg_salary"
   ]
  },
  {
   "cell_type": "code",
   "execution_count": null,
   "id": "3024915c",
   "metadata": {},
   "outputs": [],
   "source": [
    "# Close the connection\n",
    "conn.close()"
   ]
  },
  {
   "cell_type": "code",
   "execution_count": 42,
   "id": "a1abe8dd",
   "metadata": {},
   "outputs": [
    {
     "name": "stderr",
     "output_type": "stream",
     "text": [
      "C:\\Users\\omcar\\AppData\\Local\\Temp\\ipykernel_4364\\840097965.py:16: UserWarning: pandas only supports SQLAlchemy connectable (engine/connection) or database string URI or sqlite3 DBAPI2 connection. Other DBAPI2 objects are not tested. Please consider using SQLAlchemy.\n",
      "  df_highest_paid = pd.read_sql_query(query, conn)\n"
     ]
    },
    {
     "data": {
      "text/html": [
       "<div>\n",
       "<style scoped>\n",
       "    .dataframe tbody tr th:only-of-type {\n",
       "        vertical-align: middle;\n",
       "    }\n",
       "\n",
       "    .dataframe tbody tr th {\n",
       "        vertical-align: top;\n",
       "    }\n",
       "\n",
       "    .dataframe thead th {\n",
       "        text-align: right;\n",
       "    }\n",
       "</style>\n",
       "<table border=\"1\" class=\"dataframe\">\n",
       "  <thead>\n",
       "    <tr style=\"text-align: right;\">\n",
       "      <th></th>\n",
       "      <th>name</th>\n",
       "      <th>department</th>\n",
       "      <th>salary</th>\n",
       "    </tr>\n",
       "  </thead>\n",
       "  <tbody>\n",
       "    <tr>\n",
       "      <th>0</th>\n",
       "      <td>John Smith</td>\n",
       "      <td>Management</td>\n",
       "      <td>100000.0</td>\n",
       "    </tr>\n",
       "  </tbody>\n",
       "</table>\n",
       "</div>"
      ],
      "text/plain": [
       "         name  department    salary\n",
       "0  John Smith  Management  100000.0"
      ]
     },
     "execution_count": 42,
     "metadata": {},
     "output_type": "execute_result"
    }
   ],
   "source": [
    "### 5. Find the highest-paid employee and their department\n",
    "\n",
    "#connecting to an existing database\n",
    "\n",
    "conn = connect(host=\"localhost\",user=\"root\",\n",
    "        password=password,database=\"employees_records\")\n",
    "cursor = conn.cursor()\n",
    "\n",
    "# Query to find the highest-paid employee and their department\n",
    "query = \"\"\"\n",
    "SELECT name, department, salary \n",
    "FROM employees \n",
    "ORDER BY salary DESC \n",
    "LIMIT 1\n",
    "\"\"\"\n",
    "df_highest_paid = pd.read_sql_query(query, conn)\n",
    "df_highest_paid\n"
   ]
  },
  {
   "cell_type": "code",
   "execution_count": 43,
   "id": "e2f6a6e7",
   "metadata": {},
   "outputs": [],
   "source": [
    "# Close the connection\n",
    "conn.close()"
   ]
  },
  {
   "cell_type": "code",
   "execution_count": 44,
   "id": "6b8ed0a5",
   "metadata": {},
   "outputs": [
    {
     "name": "stderr",
     "output_type": "stream",
     "text": [
      "C:\\Users\\omcar\\AppData\\Local\\Temp\\ipykernel_4364\\3239033373.py:11: UserWarning: pandas only supports SQLAlchemy connectable (engine/connection) or database string URI or sqlite3 DBAPI2 connection. Other DBAPI2 objects are not tested. Please consider using SQLAlchemy.\n",
      "  df_hired_before_2020 = pd.read_sql_query(query, conn)\n"
     ]
    },
    {
     "data": {
      "text/html": [
       "<div>\n",
       "<style scoped>\n",
       "    .dataframe tbody tr th:only-of-type {\n",
       "        vertical-align: middle;\n",
       "    }\n",
       "\n",
       "    .dataframe tbody tr th {\n",
       "        vertical-align: top;\n",
       "    }\n",
       "\n",
       "    .dataframe thead th {\n",
       "        text-align: right;\n",
       "    }\n",
       "</style>\n",
       "<table border=\"1\" class=\"dataframe\">\n",
       "  <thead>\n",
       "    <tr style=\"text-align: right;\">\n",
       "      <th></th>\n",
       "      <th>id</th>\n",
       "      <th>name</th>\n",
       "      <th>department</th>\n",
       "      <th>salary</th>\n",
       "      <th>hire_date</th>\n",
       "    </tr>\n",
       "  </thead>\n",
       "  <tbody>\n",
       "    <tr>\n",
       "      <th>0</th>\n",
       "      <td>2</td>\n",
       "      <td>Jane Doe</td>\n",
       "      <td>Sales</td>\n",
       "      <td>50000.0</td>\n",
       "      <td>2019-06-01</td>\n",
       "    </tr>\n",
       "    <tr>\n",
       "      <th>1</th>\n",
       "      <td>3</td>\n",
       "      <td>Bob Johnson</td>\n",
       "      <td>Management</td>\n",
       "      <td>75000.0</td>\n",
       "      <td>2018-03-01</td>\n",
       "    </tr>\n",
       "    <tr>\n",
       "      <th>2</th>\n",
       "      <td>6</td>\n",
       "      <td>Sophia Martinez</td>\n",
       "      <td>Customer Service</td>\n",
       "      <td>71000.0</td>\n",
       "      <td>2018-09-12</td>\n",
       "    </tr>\n",
       "    <tr>\n",
       "      <th>3</th>\n",
       "      <td>7</td>\n",
       "      <td>Emma Thomas</td>\n",
       "      <td>Research</td>\n",
       "      <td>59000.0</td>\n",
       "      <td>2019-11-30</td>\n",
       "    </tr>\n",
       "    <tr>\n",
       "      <th>4</th>\n",
       "      <td>8</td>\n",
       "      <td>Liam Taylor</td>\n",
       "      <td>Finance</td>\n",
       "      <td>72000.0</td>\n",
       "      <td>2015-07-22</td>\n",
       "    </tr>\n",
       "    <tr>\n",
       "      <th>5</th>\n",
       "      <td>10</td>\n",
       "      <td>Noah Martin</td>\n",
       "      <td>HR</td>\n",
       "      <td>55000.0</td>\n",
       "      <td>2019-03-03</td>\n",
       "    </tr>\n",
       "    <tr>\n",
       "      <th>6</th>\n",
       "      <td>11</td>\n",
       "      <td>Isabella Hall</td>\n",
       "      <td>IT</td>\n",
       "      <td>78000.0</td>\n",
       "      <td>2018-05-29</td>\n",
       "    </tr>\n",
       "    <tr>\n",
       "      <th>7</th>\n",
       "      <td>12</td>\n",
       "      <td>Ethan Garcia</td>\n",
       "      <td>Marketing</td>\n",
       "      <td>65000.0</td>\n",
       "      <td>2016-10-12</td>\n",
       "    </tr>\n",
       "    <tr>\n",
       "      <th>8</th>\n",
       "      <td>13</td>\n",
       "      <td>Mia Lopez</td>\n",
       "      <td>Operations</td>\n",
       "      <td>72000.0</td>\n",
       "      <td>2017-08-08</td>\n",
       "    </tr>\n",
       "    <tr>\n",
       "      <th>9</th>\n",
       "      <td>15</td>\n",
       "      <td>Charlotte Clark</td>\n",
       "      <td>Research</td>\n",
       "      <td>73000.0</td>\n",
       "      <td>2019-09-02</td>\n",
       "    </tr>\n",
       "    <tr>\n",
       "      <th>10</th>\n",
       "      <td>16</td>\n",
       "      <td>Daniel Lewis</td>\n",
       "      <td>IT</td>\n",
       "      <td>69000.0</td>\n",
       "      <td>2018-01-14</td>\n",
       "    </tr>\n",
       "    <tr>\n",
       "      <th>11</th>\n",
       "      <td>17</td>\n",
       "      <td>Harper Adams</td>\n",
       "      <td>Marketing</td>\n",
       "      <td>85000.0</td>\n",
       "      <td>2016-06-07</td>\n",
       "    </tr>\n",
       "  </tbody>\n",
       "</table>\n",
       "</div>"
      ],
      "text/plain": [
       "    id             name        department   salary   hire_date\n",
       "0    2         Jane Doe             Sales  50000.0  2019-06-01\n",
       "1    3      Bob Johnson        Management  75000.0  2018-03-01\n",
       "2    6  Sophia Martinez  Customer Service  71000.0  2018-09-12\n",
       "3    7      Emma Thomas          Research  59000.0  2019-11-30\n",
       "4    8      Liam Taylor           Finance  72000.0  2015-07-22\n",
       "5   10      Noah Martin                HR  55000.0  2019-03-03\n",
       "6   11    Isabella Hall                IT  78000.0  2018-05-29\n",
       "7   12     Ethan Garcia         Marketing  65000.0  2016-10-12\n",
       "8   13        Mia Lopez        Operations  72000.0  2017-08-08\n",
       "9   15  Charlotte Clark          Research  73000.0  2019-09-02\n",
       "10  16     Daniel Lewis                IT  69000.0  2018-01-14\n",
       "11  17     Harper Adams         Marketing  85000.0  2016-06-07"
      ]
     },
     "execution_count": 44,
     "metadata": {},
     "output_type": "execute_result"
    }
   ],
   "source": [
    "### 6. Identify employees hired before 2020-01-01\n",
    "\n",
    "#connecting to an existing database\n",
    "\n",
    "conn = connect(host=\"localhost\",user=\"root\",\n",
    "        password=password,database=\"employees_records\")\n",
    "cursor = conn.cursor()\n",
    "\n",
    "# Query to find employees hired before 2020-01-01\n",
    "query = \"SELECT * FROM employees WHERE hire_date < '2020-01-01'\"\n",
    "df_hired_before_2020 = pd.read_sql_query(query, conn)\n",
    "df_hired_before_2020"
   ]
  },
  {
   "cell_type": "code",
   "execution_count": 45,
   "id": "255262e2",
   "metadata": {},
   "outputs": [],
   "source": [
    "# Close the connection\n",
    "conn.close()"
   ]
  },
  {
   "cell_type": "code",
   "execution_count": null,
   "id": "f56412f0",
   "metadata": {},
   "outputs": [],
   "source": []
  }
 ],
 "metadata": {
  "kernelspec": {
   "display_name": "Python 3 (ipykernel)",
   "language": "python",
   "name": "python3"
  },
  "language_info": {
   "codemirror_mode": {
    "name": "ipython",
    "version": 3
   },
   "file_extension": ".py",
   "mimetype": "text/x-python",
   "name": "python",
   "nbconvert_exporter": "python",
   "pygments_lexer": "ipython3",
   "version": "3.9.13"
  }
 },
 "nbformat": 4,
 "nbformat_minor": 5
}
